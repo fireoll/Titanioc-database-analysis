{
 "cells": [
  {
   "cell_type": "code",
   "execution_count": 1,
   "id": "8110fa33",
   "metadata": {},
   "outputs": [
    {
     "data": {
      "text/html": [
       "<div>\n",
       "<style scoped>\n",
       "    .dataframe tbody tr th:only-of-type {\n",
       "        vertical-align: middle;\n",
       "    }\n",
       "\n",
       "    .dataframe tbody tr th {\n",
       "        vertical-align: top;\n",
       "    }\n",
       "\n",
       "    .dataframe thead th {\n",
       "        text-align: right;\n",
       "    }\n",
       "</style>\n",
       "<table border=\"1\" class=\"dataframe\">\n",
       "  <thead>\n",
       "    <tr style=\"text-align: right;\">\n",
       "      <th></th>\n",
       "      <th>PassengerId</th>\n",
       "      <th>Survived</th>\n",
       "      <th>Pclass</th>\n",
       "      <th>Name</th>\n",
       "      <th>Sex</th>\n",
       "      <th>Age</th>\n",
       "      <th>SibSp</th>\n",
       "      <th>Parch</th>\n",
       "      <th>Ticket</th>\n",
       "      <th>Fare</th>\n",
       "      <th>Cabin</th>\n",
       "      <th>Embarked</th>\n",
       "    </tr>\n",
       "  </thead>\n",
       "  <tbody>\n",
       "    <tr>\n",
       "      <th>0</th>\n",
       "      <td>1</td>\n",
       "      <td>0</td>\n",
       "      <td>3</td>\n",
       "      <td>Braund, Mr. Owen Harris</td>\n",
       "      <td>male</td>\n",
       "      <td>22.0</td>\n",
       "      <td>1</td>\n",
       "      <td>0</td>\n",
       "      <td>A/5 21171</td>\n",
       "      <td>7.2500</td>\n",
       "      <td>NaN</td>\n",
       "      <td>S</td>\n",
       "    </tr>\n",
       "    <tr>\n",
       "      <th>1</th>\n",
       "      <td>2</td>\n",
       "      <td>1</td>\n",
       "      <td>1</td>\n",
       "      <td>Cumings, Mrs. John Bradley (Florence Briggs Th...</td>\n",
       "      <td>female</td>\n",
       "      <td>38.0</td>\n",
       "      <td>1</td>\n",
       "      <td>0</td>\n",
       "      <td>PC 17599</td>\n",
       "      <td>71.2833</td>\n",
       "      <td>C85</td>\n",
       "      <td>C</td>\n",
       "    </tr>\n",
       "    <tr>\n",
       "      <th>2</th>\n",
       "      <td>3</td>\n",
       "      <td>1</td>\n",
       "      <td>3</td>\n",
       "      <td>Heikkinen, Miss. Laina</td>\n",
       "      <td>female</td>\n",
       "      <td>26.0</td>\n",
       "      <td>0</td>\n",
       "      <td>0</td>\n",
       "      <td>STON/O2. 3101282</td>\n",
       "      <td>7.9250</td>\n",
       "      <td>NaN</td>\n",
       "      <td>S</td>\n",
       "    </tr>\n",
       "    <tr>\n",
       "      <th>3</th>\n",
       "      <td>4</td>\n",
       "      <td>1</td>\n",
       "      <td>1</td>\n",
       "      <td>Futrelle, Mrs. Jacques Heath (Lily May Peel)</td>\n",
       "      <td>female</td>\n",
       "      <td>35.0</td>\n",
       "      <td>1</td>\n",
       "      <td>0</td>\n",
       "      <td>113803</td>\n",
       "      <td>53.1000</td>\n",
       "      <td>C123</td>\n",
       "      <td>S</td>\n",
       "    </tr>\n",
       "    <tr>\n",
       "      <th>4</th>\n",
       "      <td>5</td>\n",
       "      <td>0</td>\n",
       "      <td>3</td>\n",
       "      <td>Allen, Mr. William Henry</td>\n",
       "      <td>male</td>\n",
       "      <td>35.0</td>\n",
       "      <td>0</td>\n",
       "      <td>0</td>\n",
       "      <td>373450</td>\n",
       "      <td>8.0500</td>\n",
       "      <td>NaN</td>\n",
       "      <td>S</td>\n",
       "    </tr>\n",
       "  </tbody>\n",
       "</table>\n",
       "</div>"
      ],
      "text/plain": [
       "   PassengerId  Survived  Pclass  \\\n",
       "0            1         0       3   \n",
       "1            2         1       1   \n",
       "2            3         1       3   \n",
       "3            4         1       1   \n",
       "4            5         0       3   \n",
       "\n",
       "                                                Name     Sex   Age  SibSp  \\\n",
       "0                            Braund, Mr. Owen Harris    male  22.0      1   \n",
       "1  Cumings, Mrs. John Bradley (Florence Briggs Th...  female  38.0      1   \n",
       "2                             Heikkinen, Miss. Laina  female  26.0      0   \n",
       "3       Futrelle, Mrs. Jacques Heath (Lily May Peel)  female  35.0      1   \n",
       "4                           Allen, Mr. William Henry    male  35.0      0   \n",
       "\n",
       "   Parch            Ticket     Fare Cabin Embarked  \n",
       "0      0         A/5 21171   7.2500   NaN        S  \n",
       "1      0          PC 17599  71.2833   C85        C  \n",
       "2      0  STON/O2. 3101282   7.9250   NaN        S  \n",
       "3      0            113803  53.1000  C123        S  \n",
       "4      0            373450   8.0500   NaN        S  "
      ]
     },
     "execution_count": 1,
     "metadata": {},
     "output_type": "execute_result"
    }
   ],
   "source": [
    "import pandas as pd\n",
    "import numpy as np\n",
    "import matplotlib.pyplot as plt\n",
    "%matplotlib inline\n",
    "db=pd.read_csv(\"titanic.csv\")\n",
    "db.head()"
   ]
  },
  {
   "cell_type": "markdown",
   "id": "f409e494",
   "metadata": {},
   "source": [
    "Death percentage"
   ]
  },
  {
   "cell_type": "code",
   "execution_count": 2,
   "id": "477cf324",
   "metadata": {},
   "outputs": [
    {
     "name": "stdout",
     "output_type": "stream",
     "text": [
      "Death percentage 61.61616161616161\n"
     ]
    }
   ],
   "source": [
    "total_deaths=db[\"Survived\"][db.Survived==0].count()\n",
    "total_deaths\n",
    "total_passengers=db.Survived.count()\n",
    "death_percent=(total_deaths/total_passengers)*100\n",
    "print(\"Death percentage\",death_percent)"
   ]
  },
  {
   "cell_type": "markdown",
   "id": "52f73bf5",
   "metadata": {},
   "source": [
    "Total 61.61616161 % of deaths were there due to titanic's sinking"
   ]
  },
  {
   "cell_type": "markdown",
   "id": "e811c2bd",
   "metadata": {},
   "source": [
    "Gender wise death percentage"
   ]
  },
  {
   "cell_type": "code",
   "execution_count": 3,
   "id": "a184386c",
   "metadata": {},
   "outputs": [
    {
     "name": "stdout",
     "output_type": "stream",
     "text": [
      "Male death percentage: 85.24590163934425\n",
      "Female death percentage: 14.754098360655737\n"
     ]
    }
   ],
   "source": [
    "male_deaths=db[\"Survived\"][(db.Sex==\"male\")&(db.Survived==0)].count()\n",
    "female_deaths=db[\"Survived\"][(db.Sex==\"female\")&(db.Survived==0)].count()\n",
    "male_death_percentage=(male_deaths/total_deaths)*100\n",
    "female_death_percentage=(female_deaths/total_deaths)*100\n",
    "print(\"Male death percentage:\",male_death_percentage)\n",
    "print(\"Female death percentage:\",female_death_percentage)\n",
    "\n"
   ]
  },
  {
   "cell_type": "markdown",
   "id": "e040d5e4",
   "metadata": {},
   "source": [
    "Visualising Death percentage basis of Class"
   ]
  },
  {
   "cell_type": "code",
   "execution_count": 4,
   "id": "4bd7fe1e",
   "metadata": {},
   "outputs": [
    {
     "data": {
      "image/png": "[encoded data removed]",
      "text/plain": [
       "<Figure size 432x288 with 1 Axes>"
      ]
     },
     "metadata": {
      "needs_background": "light"
     },
     "output_type": "display_data"
    }
   ],
   "source": [
    "db.Pclass.dropna()\n",
    "classes=db.Pclass.unique()\n",
    "count_classes=[]\n",
    "for i in classes:\n",
    "    count_classes.append(((db[(db.Pclass==i)&(db.Survived==0)][\"Pclass\"].count())/total_deaths)*100)\n",
    "plt.scatter(classes,count_classes,marker=\"+\",color=\"Red\")\n",
    "plt.minorticks_on()\n",
    "plt.grid(which=\"major\",axis=\"both\",c=\"#249CD5\")\n",
    "plt.grid(which=\"minor\",axis=\"both\",c=\"#EE9DEB\")\n",
    "plt.xlabel(\"Classes\");\n",
    "plt.ylabel(\"Death percent\");\n",
    "plt.title(\"Visualisation of Death percentage on class basis\");"
   ]
  },
  {
   "cell_type": "markdown",
   "id": "caf7928a",
   "metadata": {},
   "source": [
    "From above we conclude that passenger's class 3 faced most deaths"
   ]
  },
  {
   "cell_type": "markdown",
   "id": "ab2eac24",
   "metadata": {},
   "source": [
    "Visualising deaths basis of solo and group travelling"
   ]
  },
  {
   "cell_type": "code",
   "execution_count": 5,
   "id": "d5e79529",
   "metadata": {},
   "outputs": [
    {
     "name": "stdout",
     "output_type": "stream",
     "text": [
      "Solo deaths are: 398\n",
      "Group deaths are: 151\n"
     ]
    }
   ],
   "source": [
    "db.SibSp.dropna()\n",
    "category=[\"Solo\",\"Group\"]\n",
    "category_deaths=[]\n",
    "solo_deaths=db[(db.Survived==0) & (db.SibSp==0)].Survived.count()\n",
    "group_deaths=db[(db.Survived==0) & (db.SibSp!=0)].Survived.count()\n",
    "category_deaths.append(solo_deaths)\n",
    "category_deaths.append(group_deaths)\n",
    "print(\"Solo deaths are:\",solo_deaths)\n",
    "print(\"Group deaths are:\",group_deaths)\n"
   ]
  },
  {
   "cell_type": "code",
   "execution_count": 6,
   "id": "9798011a",
   "metadata": {},
   "outputs": [
    {
     "name": "stdout",
     "output_type": "stream",
     "text": [
      "Difference in deaths: 247 (Solo deaths being more)\n"
     ]
    },
    {
     "data": {
      "image/png": "[encoded data removed]",
      "text/plain": [
       "<Figure size 432x288 with 1 Axes>"
      ]
     },
     "metadata": {
      "needs_background": "light"
     },
     "output_type": "display_data"
    }
   ],
   "source": [
    "plt.scatter(category,category_deaths,marker=\"o\",color=\"red\");\n",
    "plt.minorticks_on()\n",
    "plt.grid(which=\"major\",axis=\"both\",c=\"#249CD5\")\n",
    "plt.grid(which=\"minor\",axis=\"both\",c=\"#EE9DEB\")\n",
    "plt.xlabel(\"Categories\");\n",
    "plt.ylabel(\"Deaths\");\n",
    "plt.title(\"Visualisation of Deaths on solo and group basis\");\n",
    "print(\"Difference in deaths:\",solo_deaths-group_deaths,\"(Solo deaths being more)\")\n"
   ]
  },
  {
   "cell_type": "markdown",
   "id": "7fb7ff23",
   "metadata": {},
   "source": [
    "Travellers that boarded alone survived less than thos who boarded on group "
   ]
  },
  {
   "cell_type": "markdown",
   "id": "32a07566",
   "metadata": {},
   "source": [
    "Classes based analysis of solo deaths"
   ]
  },
  {
   "cell_type": "code",
   "execution_count": 7,
   "id": "0c4a7a65",
   "metadata": {},
   "outputs": [
    {
     "data": {
      "image/png": "[encoded data removed]",
      "text/plain": [
       "<Figure size 432x288 with 1 Axes>"
      ]
     },
     "metadata": {
      "needs_background": "light"
     },
     "output_type": "display_data"
    }
   ],
   "source": [
    "classes=db.Pclass.unique()\n",
    "death_byclassess=[]\n",
    "for i in classes:\n",
    "    death_byclassess.append(db[(db.Survived==0)&(db.Pclass==i)&(db.SibSp==0)].Survived.count())\n",
    "plt.bar(classes,death_byclassess,color=\"green\",width=0.2);\n",
    "plt.minorticks_on();\n",
    "plt.grid(which=\"major\",axis=\"both\",c=\"#249CD5\")\n",
    "plt.grid(which=\"minor\",axis=\"both\",c=\"#EE9DEB\")\n",
    "plt.title(\"Solo deaths per class \");\n",
    "plt.xlabel(\"Classes\");\n",
    "plt.ylabel(\"Deaths\");\n",
    "plt.xticks([1,2,3]);"
   ]
  },
  {
   "cell_type": "markdown",
   "id": "31f89753",
   "metadata": {},
   "source": [
    "From above bar graph we conclude that Class 3 had a major number of solo deaths"
   ]
  },
  {
   "cell_type": "markdown",
   "id": "e7aae28b",
   "metadata": {},
   "source": [
    "Classes based analysis of group deaths"
   ]
  },
  {
   "cell_type": "code",
   "execution_count": 8,
   "id": "810a1f78",
   "metadata": {},
   "outputs": [
    {
     "data": {
      "image/png": "[encoded data removed]",
      "text/plain": [
       "<Figure size 432x288 with 1 Axes>"
      ]
     },
     "metadata": {
      "needs_background": "light"
     },
     "output_type": "display_data"
    }
   ],
   "source": [
    "classes=db.Pclass.unique()\n",
    "death_byclasses=[]\n",
    "for i in classes:\n",
    "    death_byclasses.append(db[(db.Survived==0)&(db.Pclass==i)&(db.SibSp!=0)].Survived.count())\n",
    "plt.bar(classes,death_byclasses,color=\"Red\",width=0.2);\n",
    "plt.minorticks_on();\n",
    "plt.grid(which=\"major\",axis=\"both\",c=\"#249CD5\")\n",
    "plt.grid(which=\"minor\",axis=\"both\",c=\"#EE9DEB\")\n",
    "plt.title(\"Group deaths per class \");\n",
    "plt.xlabel(\"Classes\");\n",
    "plt.ylabel(\"Deaths\");\n",
    "plt.xticks([1,2,3]);"
   ]
  },
  {
   "cell_type": "markdown",
   "id": "3961ce41",
   "metadata": {},
   "source": [
    "From above graph we conclude that maximum group deaths occured in class 3"
   ]
  },
  {
   "cell_type": "markdown",
   "id": "a08fca49",
   "metadata": {},
   "source": [
    "Comparing Solo and Group deaths"
   ]
  },
  {
   "cell_type": "code",
   "execution_count": 9,
   "id": "14b816fd",
   "metadata": {},
   "outputs": [
    {
     "data": {
      "image/png": "[encoded data removed]",
      "text/plain": [
       "<Figure size 432x288 with 1 Axes>"
      ]
     },
     "metadata": {
      "needs_background": "light"
     },
     "output_type": "display_data"
    }
   ],
   "source": [
    "plt.bar(classes,death_byclasses,color=\"#FF0000\",width=0.2,label=\"Group\");\n",
    "plt.bar(classes+0.2,death_byclassess,color=\"#4AE92B\",width=0.2,label=\"Solo\");\n",
    "plt.minorticks_on();\n",
    "plt.grid(which=\"major\",axis=\"both\",c=\"#951A1A\")\n",
    "plt.grid(which=\"minor\",axis=\"both\",c=\"#EE9DEB\")\n",
    "plt.title(\"Group deaths per class \");\n",
    "plt.xlabel(\"Classes\");\n",
    "plt.ylabel(\"Deaths\");\n",
    "plt.legend();"
   ]
  },
  {
   "cell_type": "markdown",
   "id": "1944e3d5",
   "metadata": {},
   "source": [
    "It is clear from above graph that class 3 suffered the most deaths from which we can conclude it had the largest impact"
   ]
  },
  {
   "cell_type": "markdown",
   "id": "4ab07b50",
   "metadata": {},
   "source": [
    "Number of deaths agewise"
   ]
  },
  {
   "cell_type": "code",
   "execution_count": 10,
   "id": "35636b5f",
   "metadata": {},
   "outputs": [
    {
     "data": {
      "image/png": "[encoded data removed]",
      "text/plain": [
       "<Figure size 432x288 with 1 Axes>"
      ]
     },
     "metadata": {
      "needs_background": "light"
     },
     "output_type": "display_data"
    }
   ],
   "source": [
    "db.dropna()\n",
    "age=db.Age.dropna().unique()\n",
    "survive=[]\n",
    "for i in age:\n",
    "    survive.append(db[(db.Age==i)&(db.Survived==0)].Survived.count())\n",
    "plt.scatter(age,survive,marker=\"+\",color=\"Red\");\n",
    "plt.minorticks_on();\n",
    "plt.grid(which=\"major\",axis=\"both\",c=\"#249CD5\")\n",
    "plt.grid(which=\"minor\",axis=\"both\",c=\"#EE9DEB\")\n",
    "plt.title(\"Agewise deaths\");\n",
    "plt.xlabel(\"Age\");\n",
    "plt.ylabel(\"Deaths\");\n",
    "\n",
    "    "
   ]
  },
  {
   "cell_type": "markdown",
   "id": "242e8235",
   "metadata": {},
   "source": [
    "Percentage of youths that died"
   ]
  },
  {
   "cell_type": "code",
   "execution_count": 11,
   "id": "9ed5d372",
   "metadata": {},
   "outputs": [
    {
     "name": "stdout",
     "output_type": "stream",
     "text": [
      "Percentage of youths that died: 66.48936170212765\n"
     ]
    }
   ],
   "source": [
    "count_of_survived_youth=db[(db.Age>=18)&(db.Age<=25)&(db.Survived==0)].Survived.count()\n",
    "count_of_lost_youth=db[(db.Age>=18)&(db.Age<=25)].Age.count()\n",
    "print(\"Percentage of youths that died:\",((count_of_survived_youth/count_of_lost_youth)*100))"
   ]
  },
  {
   "cell_type": "markdown",
   "id": "ae2aa661",
   "metadata": {},
   "source": [
    "Survival rate based on fare"
   ]
  },
  {
   "cell_type": "code",
   "execution_count": 12,
   "id": "429a50da",
   "metadata": {},
   "outputs": [
    {
     "data": {
      "image/png": "[encoded data removed]",
      "text/plain": [
       "<Figure size 432x288 with 1 Axes>"
      ]
     },
     "metadata": {
      "needs_background": "light"
     },
     "output_type": "display_data"
    }
   ],
   "source": [
    "fare=db.Fare.dropna().unique()\n",
    "deaths_per_fare=[]\n",
    "for i in fare:\n",
    "    deaths_per_fare.append(db[(db.Fare==i)&(db.Survived==1)].Survived.count())\n",
    "deaths_per_fare\n",
    "plt.scatter(fare,deaths_per_fare,marker=\"+\",color=\"Red\")\n",
    "plt.minorticks_on();\n",
    "plt.grid(which=\"major\",axis=\"both\",c=\"#249CD5\")\n",
    "plt.grid(which=\"minor\",axis=\"both\",c=\"#EE9DEB\")\n",
    "plt.title(\"Survival rate based on fare\");\n",
    "plt.xlabel(\"Fare\");\n",
    "plt.ylabel(\"Survivals\");\n",
    "plt.show();\n"
   ]
  },
  {
   "cell_type": "markdown",
   "id": "de7af6d5",
   "metadata": {},
   "source": [
    "Price of each death"
   ]
  },
  {
   "cell_type": "code",
   "execution_count": 13,
   "id": "5996c468",
   "metadata": {},
   "outputs": [
    {
     "name": "stdout",
     "output_type": "stream",
     "text": [
      "Average cost of each death: 22.117886885245877\n"
     ]
    }
   ],
   "source": [
    "fare=db[db.Survived==0].Fare\n",
    "Sum_fare=sum(fare)\n",
    "print(\"Average cost of each death:\",(Sum_fare/len(fare)))"
   ]
  },
  {
   "cell_type": "markdown",
   "id": "b95dc9dc",
   "metadata": {},
   "source": [
    "Deaths and survival count based on the place from where people embarked"
   ]
  },
  {
   "cell_type": "code",
   "execution_count": 14,
   "id": "ba237a85",
   "metadata": {},
   "outputs": [
    {
     "data": {
      "image/png": "[encoded data removed]",
      "text/plain": [
       "<Figure size 432x288 with 1 Axes>"
      ]
     },
     "metadata": {
      "needs_background": "light"
     },
     "output_type": "display_data"
    }
   ],
   "source": [
    "embarked=[\"Southampton\",\"Cherbourg\",\"Queenstown\"]\n",
    "counts=[]\n",
    "countd=[]\n",
    "X_axis = np.arange(len(embarked))\n",
    "counts.append(db[(db.Survived==1)&(db.Embarked=='S')].Survived.count())\n",
    "countd.append(db[(db.Survived==0)&(db.Embarked=='S')].Survived.count())\n",
    "counts.append(db[(db.Survived==1)&(db.Embarked=='C')].Survived.count())\n",
    "countd.append(db[(db.Survived==0)&(db.Embarked=='C')].Survived.count())\n",
    "counts.append(db[(db.Survived==1)&(db.Embarked=='Q')].Survived.count())\n",
    "countd.append(db[(db.Survived==0)&(db.Embarked=='Q')].Survived.count())\n",
    "plt.bar(X_axis-0.2,counts,color=\"#FF0000\",width=0.2,label=\"Survived\");\n",
    "plt.bar(X_axis,countd,color=\"#4AE92B\",width=0.2,label=\"Deaths\");\n",
    "plt.minorticks_on();\n",
    "plt.grid(which=\"major\",axis=\"both\",c=\"#951A1A\")\n",
    "plt.grid(which=\"minor\",axis=\"both\",c=\"#EE9DEB\")\n",
    "plt.title(\"Deaths and Survivals per Place \");\n",
    "plt.xlabel(\"Places from where travellers mounted \");\n",
    "plt.ylabel(\"Deaths\");\n",
    "plt.xticks(X_axis, embarked)\n",
    "plt.legend();\n",
    "\n"
   ]
  },
  {
   "cell_type": "markdown",
   "id": "874f1dcf",
   "metadata": {},
   "source": [
    "It is clear from above graph that most casualities as well as as survivors boarded from Southampton"
   ]
  },
  {
   "cell_type": "code",
   "execution_count": 29,
   "id": "9a50b437",
   "metadata": {},
   "outputs": [
    {
     "data": {
      "image/png": "[encoded data removed]",
      "text/plain": [
       "<Figure size 432x288 with 1 Axes>"
      ]
     },
     "metadata": {
      "needs_background": "light"
     },
     "output_type": "display_data"
    }
   ],
   "source": [
    "age_set=[\"(0,10]\",\"(10,20]\",\"(20,30]\",\"(30,40]\",\"(40,50]\",\"(50,60]\",\"(60,70]\",\"(70,80]\"]\n",
    "counts=[]\n",
    "countd=[]\n",
    "X_axis = np.arange(len(age_set))\n",
    "counts.append(db[(db.Survived==1)&(db.Age>=0)&(db.Age<=10)].Survived.count())\n",
    "countd.append(db[(db.Survived==0)&(db.Age>=0)&(db.Age<=10)].Survived.count())\n",
    "counts.append(db[(db.Survived==1)&(db.Age>10)&(db.Age<=20)].Survived.count())\n",
    "countd.append(db[(db.Survived==0)&(db.Age>10)&(db.Age<=20)].Survived.count())\n",
    "counts.append(db[(db.Survived==1)&(db.Age>20)&(db.Age<=30)].Survived.count())\n",
    "countd.append(db[(db.Survived==0)&(db.Age>20)&(db.Age<=30)].Survived.count())\n",
    "counts.append(db[(db.Survived==1)&(db.Age>30)&(db.Age<=40)].Survived.count())\n",
    "countd.append(db[(db.Survived==0)&(db.Age>30)&(db.Age<=40)].Survived.count())\n",
    "counts.append(db[(db.Survived==1)&(db.Age>40)&(db.Age<=50)].Survived.count())\n",
    "countd.append(db[(db.Survived==0)&(db.Age>40)&(db.Age<=50)].Survived.count())\n",
    "counts.append(db[(db.Survived==1)&(db.Age>50)&(db.Age<=60)].Survived.count())\n",
    "countd.append(db[(db.Survived==0)&(db.Age>50)&(db.Age<=60)].Survived.count())\n",
    "counts.append(db[(db.Survived==1)&(db.Age>60)&(db.Age<=70)].Survived.count())\n",
    "countd.append(db[(db.Survived==0)&(db.Age>60)&(db.Age<=70)].Survived.count())\n",
    "counts.append(db[(db.Survived==1)&(db.Age>70)&(db.Age<=80)].Survived.count())\n",
    "countd.append(db[(db.Survived==0)&(db.Age>70)&(db.Age<=80)].Survived.count())\n",
    "plt.bar(X_axis-0.2,counts,color=\"#FF0000\",width=0.2,label=\"Survived\");\n",
    "plt.bar(X_axis,countd,color=\"#4AE92B\",width=0.2,label=\"Deaths\");\n",
    "plt.minorticks_on();\n",
    "plt.grid(which=\"major\",axis=\"both\",c=\"#951A1A\")\n",
    "plt.grid(which=\"minor\",axis=\"both\",c=\"#EE9DEB\")\n",
    "plt.title(\"Deaths and Survivals Agewise \");\n",
    "plt.xlabel(\"Age\");\n",
    "plt.xticks(X_axis, age_set)\n",
    "plt.legend();\n",
    "\n"
   ]
  },
  {
   "cell_type": "markdown",
   "id": "b6f51734",
   "metadata": {},
   "source": [
    "A larger fraction of children under 10 survived than died"
   ]
  },
  {
   "cell_type": "code",
   "execution_count": null,
   "id": "e186d5e5",
   "metadata": {},
   "outputs": [],
   "source": []
  },
  {
   "cell_type": "code",
   "execution_count": null,
   "id": "c181ef3f",
   "metadata": {},
   "outputs": [],
   "source": []
  },
  {
   "cell_type": "code",
   "execution_count": null,
   "id": "c4f02842",
   "metadata": {},
   "outputs": [],
   "source": []
  },
  {
   "cell_type": "code",
   "execution_count": null,
   "id": "dac598a5",
   "metadata": {},
   "outputs": [],
   "source": []
  },
  {
   "cell_type": "code",
   "execution_count": null,
   "id": "f05bd892",
   "metadata": {},
   "outputs": [],
   "source": []
  },
  {
   "cell_type": "code",
   "execution_count": null,
   "id": "8c59bc38",
   "metadata": {},
   "outputs": [],
   "source": []
  },
  {
   "cell_type": "code",
   "execution_count": null,
   "id": "ad1b60ba",
   "metadata": {},
   "outputs": [],
   "source": []
  },
  {
   "cell_type": "code",
   "execution_count": null,
   "id": "7924c135",
   "metadata": {},
   "outputs": [],
   "source": []
  },
  {
   "cell_type": "code",
   "execution_count": null,
   "id": "30db2817",
   "metadata": {},
   "outputs": [],
   "source": []
  },
  {
   "cell_type": "code",
   "execution_count": null,
   "id": "f02e3b4a",
   "metadata": {},
   "outputs": [],
   "source": []
  }
 ],
 "metadata": {
  "kernelspec": {
   "display_name": "Python 3",
   "language": "python",
   "name": "python3"
  },
  "language_info": {
   "codemirror_mode": {
    "name": "ipython",
    "version": 3
   },
   "file_extension": ".py",
   "mimetype": "text/x-python",
   "name": "python",
   "nbconvert_exporter": "python",
   "pygments_lexer": "ipython3",
   "version": "3.8.8"
  }
 },
 "nbformat": 4,
 "nbformat_minor": 5
}
